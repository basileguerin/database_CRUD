{
 "cells": [
  {
   "cell_type": "code",
   "execution_count": 2,
   "metadata": {},
   "outputs": [],
   "source": [
    "import pandas as pd\n",
    "import mysql.connector as mysqlpy"
   ]
  },
  {
   "cell_type": "code",
   "execution_count": 3,
   "metadata": {},
   "outputs": [],
   "source": [
    "#ouverture du fichier txt\n",
    "txt_content = open(\"country.txt\", \"r\")\n",
    "\n",
    "#modification du fichier txt sous la forme SQL\n",
    "txt = ''\n",
    "for row in txt_content:\n",
    "    k = row.replace(\"'\", '.')\n",
    "    j = k.replace(',', '')\n",
    "    i = j.replace(' __****__ ', \"', '\")\n",
    "    txt = txt + \"('\" + i + \"'), \"\n",
    "\n",
    "une_ligne = txt.replace('\\n', '')\n",
    "values = une_ligne[:-2]"
   ]
  },
  {
   "cell_type": "code",
   "execution_count": 4,
   "metadata": {},
   "outputs": [],
   "source": [
    "#ouverture du fichier csv\n",
    "data = pd.read_csv('population.csv')\n",
    "\n",
    "#Changement du format des dates\n",
    "for i in range(data.shape[0]):\n",
    "    ligne = str(data['TIME'][i])\n",
    "    ligne = ligne + \"-01-01\"\n",
    "    data.loc[[i], ['TIME']] = ligne"
   ]
  },
  {
   "cell_type": "code",
   "execution_count": 10,
   "metadata": {},
   "outputs": [
    {
     "name": "stdout",
     "output_type": "stream",
     "text": [
      "          id country_name        date  population_value\n",
      "0          1    Australia  1951-01-01          2.971130\n",
      "1          2    Australia  1952-01-01          2.550550\n",
      "2          3    Australia  1953-01-01          2.070280\n",
      "3          4    Australia  1954-01-01          1.942080\n",
      "4          5    Australia  1955-01-01          2.372450\n",
      "...      ...          ...         ...               ...\n",
      "12332  15628    Singapore  2016-01-01          0.790967\n",
      "12333  15629    Singapore  2017-01-01          0.819538\n",
      "12334  15630    Singapore  2018-01-01          0.718317\n",
      "12335  15631    Singapore  2019-01-01          0.799292\n",
      "12336  15632    Singapore  2020-01-01          0.447096\n",
      "\n",
      "[12337 rows x 4 columns]\n"
     ]
    }
   ],
   "source": [
    "user = 'root'\n",
    "password = 'example'\n",
    "host = 'localhost'\n",
    "port = '3307'\n",
    "database = 'CountriesDatas'\n",
    "\n",
    "bdd = mysqlpy.connect(user=user, password=password, host=host, port=port, database=database)\n",
    "cursor = bdd.cursor()\n",
    "\n",
    "#QUESTION III\n",
    "def fill_countries():\n",
    "    \"\"\"Remplissage de la table countries\"\"\"\n",
    "    query = f\"INSERT IGNORE INTO countries(code, name) VALUES {values};\"\n",
    "    cursor.execute(query)\n",
    "\n",
    "def fill_population():\n",
    "    \"\"\"Remplissage de la table populations\"\"\"\n",
    "    for i in range(data.shape[0]):\n",
    "        id = i + 1\n",
    "        location = data['LOCATION'][i]\n",
    "        time = data['TIME'][i]\n",
    "        value = data['Value'][i]\n",
    "        query = f\"\"\"INSERT INTO populations(id, LOCATION, TIME, Value) \n",
    "        VALUES ('{id}', '{location}', '{time}', {value})\n",
    "        ON DUPLICATE KEY UPDATE id={id}\"\"\"\n",
    "        cursor.execute(query)\n",
    "\n",
    "#QUESTION IV\n",
    "def affiche_infos():\n",
    "    \"\"\"Retourne une liste de tuples contenants les infos sur la population des pays\"\"\"\n",
    "    populations_infos = []\n",
    "    query = \"\"\"SELECT populations.id, countries.name, populations.TIME, populations.Value \n",
    "    FROM populations JOIN countries \n",
    "    WHERE populations.LOCATION = countries.code\"\"\"\n",
    "    cursor.execute(query)\n",
    "    for pop_row in cursor:\n",
    "        populations_infos.append(pop_row)\n",
    "    return populations_infos\n",
    "\n",
    "#QUESTION V\n",
    "df = pd.DataFrame(data=affiche_infos(), columns=['id', 'country_name', 'date', 'population_value'])\n",
    "print(df)\n",
    "\n",
    "#fill_countries()\n",
    "#fill_population()\n",
    "#print(affiche_infos())\n",
    "\n",
    "bdd.commit()\n",
    "cursor.close()\n",
    "bdd.close()"
   ]
  }
 ],
 "metadata": {
  "kernelspec": {
   "display_name": "Python 3.8.10 ('.venv': venv)",
   "language": "python",
   "name": "python3"
  },
  "language_info": {
   "codemirror_mode": {
    "name": "ipython",
    "version": 3
   },
   "file_extension": ".py",
   "mimetype": "text/x-python",
   "name": "python",
   "nbconvert_exporter": "python",
   "pygments_lexer": "ipython3",
   "version": "3.8.10"
  },
  "orig_nbformat": 4,
  "vscode": {
   "interpreter": {
    "hash": "abdbafcac945b9fb1ac3b18e12e5b7a45b039ad26853e5df23ce40b14a0b0148"
   }
  }
 },
 "nbformat": 4,
 "nbformat_minor": 2
}
